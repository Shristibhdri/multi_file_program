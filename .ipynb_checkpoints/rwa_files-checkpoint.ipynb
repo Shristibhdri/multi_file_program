{
 "cells": [
  {
   "cell_type": "code",
   "execution_count": 1,
   "id": "5ab6a260-740d-45fa-9a65-2bf34fe37749",
   "metadata": {},
   "outputs": [],
   "source": [
    "filename = \"our_first_text_file.txt\"\n"
   ]
  },
  {
   "cell_type": "code",
   "execution_count": null,
   "id": "4fd8e010-8e7b-4394-90a1-7f126f601ef9",
   "metadata": {},
   "outputs": [],
   "source": [
    "file_handler = open(filename, 'w')"
   ]
  },
  {
   "cell_type": "code",
   "execution_count": 2,
   "id": "6f86628a-f0d1-4f53-bef5-77d384d9ccb8",
   "metadata": {},
   "outputs": [
    {
     "data": {
      "text/plain": [
       "20"
      ]
     },
     "execution_count": 2,
     "metadata": {},
     "output_type": "execute_result"
    }
   ],
   "source": [
    "file_handler.write(\"hello world, to file\")"
   ]
  },
  {
   "cell_type": "code",
   "execution_count": 3,
   "id": "0c3d1f39-d645-4178-8f34-23764f59a6f7",
   "metadata": {},
   "outputs": [],
   "source": [
    "file_handler.close()"
   ]
  },
  {
   "cell_type": "code",
   "execution_count": 4,
   "id": "0ecf31d8-a38c-447f-be88-f9b21d54bf56",
   "metadata": {},
   "outputs": [
    {
     "name": "stdout",
     "output_type": "stream",
     "text": [
      "True\n"
     ]
    }
   ],
   "source": [
    "print(file_handler.closed)"
   ]
  },
  {
   "cell_type": "code",
   "execution_count": 6,
   "id": "d65022cd-832d-429e-8057-fb44778d91ec",
   "metadata": {},
   "outputs": [],
   "source": [
    "file_handler = open(filename, 'a')"
   ]
  },
  {
   "cell_type": "code",
   "execution_count": 7,
   "id": "cb9a6a37-0569-4142-9430-c53b8bf947fa",
   "metadata": {},
   "outputs": [
    {
     "name": "stdout",
     "output_type": "stream",
     "text": [
      "False\n"
     ]
    }
   ],
   "source": [
    "print(file_handler.closed)"
   ]
  },
  {
   "cell_type": "code",
   "execution_count": 8,
   "id": "0c80de9e-bf9a-46d1-806a-95ae62bf994d",
   "metadata": {},
   "outputs": [
    {
     "data": {
      "text/plain": [
       "28"
      ]
     },
     "execution_count": 8,
     "metadata": {},
     "output_type": "execute_result"
    }
   ],
   "source": [
    "file_handler.write(\"this will append to the file\")"
   ]
  },
  {
   "cell_type": "code",
   "execution_count": 11,
   "id": "ecd0e443-6b35-4770-85fe-b175c72f84e5",
   "metadata": {},
   "outputs": [],
   "source": [
    "file_handler.close()"
   ]
  },
  {
   "cell_type": "code",
   "execution_count": 12,
   "id": "47a16631-f45c-43b3-9eb2-1a35c5703ec1",
   "metadata": {},
   "outputs": [],
   "source": [
    "file_handler = open(filename, 'a')\n",
    "file_handler.write(\"\\n this will start a new line\\n\")\n",
    "file_handler.close()"
   ]
  },
  {
   "cell_type": "code",
   "execution_count": 15,
   "id": "5e15f247-ad0a-4bfa-89db-1346c9acaf24",
   "metadata": {},
   "outputs": [],
   "source": [
    "if file_handler.closed == True:\n",
    "    file_handler = open(filename, 'r')\n",
    "    print(file_handler)\n",
    "    file_handler.close()"
   ]
  },
  {
   "cell_type": "code",
   "execution_count": 14,
   "id": "7236096f-9d9c-4764-8b73-975df9ff0a26",
   "metadata": {},
   "outputs": [],
   "source": [
    "if file_handler.closed == True:\n",
    "    file_handler = open(filename, 'r')\n",
    "    line_from_file =  file_handler.readline()\n",
    "    print(line_from_file)\n",
    "    file_handler.close()"
   ]
  },
  {
   "cell_type": "code",
   "execution_count": null,
   "id": "955c6789-500b-4c10-97ec-baed78559fe7",
   "metadata": {},
   "outputs": [],
   "source": []
  }
 ],
 "metadata": {
  "kernelspec": {
   "display_name": "Python 3 (ipykernel)",
   "language": "python",
   "name": "python3"
  },
  "language_info": {
   "codemirror_mode": {
    "name": "ipython",
    "version": 3
   },
   "file_extension": ".py",
   "mimetype": "text/x-python",
   "name": "python",
   "nbconvert_exporter": "python",
   "pygments_lexer": "ipython3",
   "version": "3.11.5"
  }
 },
 "nbformat": 4,
 "nbformat_minor": 5
}
